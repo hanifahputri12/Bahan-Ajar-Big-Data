{
 "cells": [
  {
   "cell_type": "markdown",
   "source": [
    "### Univariate LSTM-RNN Sumatera Selatan"
   ],
   "metadata": {}
  },
  {
   "cell_type": "code",
   "execution_count": 1,
   "source": [
    "# pustaka untuk manipulasi data\r\n",
    "import pandas as pd\r\n",
    "from pandas import concat\r\n",
    "from pandas import DataFrame\r\n",
    "from pandas import read_csv\r\n",
    "from pandas import read_excel\r\n",
    "import numpy as np\r\n",
    "from numpy import concatenate\r\n",
    "\r\n",
    "# pustaka untuk waktu komputasi\r\n",
    "import time\r\n",
    "from datetime import datetime\r\n",
    "\r\n",
    "# Pustaka untuk visualisasi data\r\n",
    "import seaborn as sns # Visualization\r\n",
    "from matplotlib import pyplot\r\n",
    "from matplotlib import pyplot as plt\r\n",
    "\r\n",
    "# Pustaka untuk membuat data latih dan data uji.\r\n",
    "from sklearn.preprocessing import MinMaxScaler\r\n",
    "from sklearn.preprocessing import LabelEncoder\r\n",
    "\r\n",
    "# Pustaka untuk membuat model prediksi LSTM-RNN\r\n",
    "import itertools\r\n",
    "import tensorflow as tf\r\n",
    "from keras.models import Sequential\r\n",
    "from keras.layers import Dense\r\n",
    "from keras.layers import Dropout\r\n",
    "from keras.layers import LSTM\r\n",
    "from keras.optimizers import Adam, Adamax, RMSprop, SGD\r\n",
    "\r\n",
    "# Early stoping\r\n",
    "from keras.callbacks import EarlyStopping\r\n",
    "from keras.callbacks import ModelCheckpoint\r\n",
    "\r\n",
    "# Pustaka untuk  evaluasi model prediksi\r\n",
    "from math import sqrt\r\n",
    "from sklearn.metrics import mean_squared_error"
   ],
   "outputs": [],
   "metadata": {}
  },
  {
   "cell_type": "code",
   "execution_count": 2,
   "source": [
    "# Set waktu komputasi\r\n",
    "start = time.time()"
   ],
   "outputs": [],
   "metadata": {}
  },
  {
   "cell_type": "code",
   "execution_count": 3,
   "source": [
    "# fix random seed for reproducibility\r\n",
    "np.random.seed(7)"
   ],
   "outputs": [],
   "metadata": {}
  },
  {
   "cell_type": "code",
   "execution_count": 4,
   "source": [
    "# membaca dataset\r\n",
    "dataset = read_excel(\"D:/Belajar Python/dataset/dataset tesis/dataset_lstm_rnn.xlsx\")"
   ],
   "outputs": [],
   "metadata": {}
  },
  {
   "cell_type": "code",
   "execution_count": 5,
   "source": [
    "# set index tanggal\r\n",
    "# dataset = dataset.set_index(\"tanggal\")"
   ],
   "outputs": [],
   "metadata": {}
  },
  {
   "cell_type": "code",
   "execution_count": 6,
   "source": [
    "dataset.info()"
   ],
   "outputs": [
    {
     "output_type": "stream",
     "name": "stdout",
     "text": [
      "<class 'pandas.core.frame.DataFrame'>\n",
      "RangeIndex: 240 entries, 0 to 239\n",
      "Data columns (total 6 columns):\n",
      " #   Column          Non-Null Count  Dtype         \n",
      "---  ------          --------------  -----         \n",
      " 0   tanggal         240 non-null    datetime64[ns]\n",
      " 1   sst             240 non-null    float64       \n",
      " 2   soi             240 non-null    float64       \n",
      " 3   oni             240 non-null    float64       \n",
      " 4   hotspot_riau    240 non-null    int64         \n",
      " 5   hotspot_sumsel  240 non-null    int64         \n",
      "dtypes: datetime64[ns](1), float64(3), int64(2)\n",
      "memory usage: 11.4 KB\n"
     ]
    }
   ],
   "metadata": {}
  },
  {
   "cell_type": "code",
   "execution_count": 7,
   "source": [
    "print(dataset.head())"
   ],
   "outputs": [
    {
     "output_type": "stream",
     "name": "stdout",
     "text": [
      "     tanggal   sst  soi   oni  hotspot_riau  hotspot_sumsel\n",
      "0 2001-01-31 -0.83  1.6 -0.68            17               3\n",
      "1 2001-02-28 -0.61  2.8 -0.52           159               5\n",
      "2 2001-03-31 -0.38  1.5 -0.44           479              10\n",
      "3 2001-04-30 -0.26  0.3 -0.34            45              20\n",
      "4 2001-05-31 -0.25 -0.8 -0.25            81              39\n"
     ]
    }
   ],
   "metadata": {}
  },
  {
   "cell_type": "markdown",
   "source": [
    "### Studi Kasus Sumatera Selatan"
   ],
   "metadata": {}
  },
  {
   "cell_type": "code",
   "execution_count": 8,
   "source": [
    "# memilih area studi\r\n",
    "df_sumsel = dataset[[\"hotspot_sumsel\"]]\r\n",
    "df_sumsel.info()"
   ],
   "outputs": [
    {
     "output_type": "stream",
     "name": "stdout",
     "text": [
      "<class 'pandas.core.frame.DataFrame'>\n",
      "RangeIndex: 240 entries, 0 to 239\n",
      "Data columns (total 1 columns):\n",
      " #   Column          Non-Null Count  Dtype\n",
      "---  ------          --------------  -----\n",
      " 0   hotspot_sumsel  240 non-null    int64\n",
      "dtypes: int64(1)\n",
      "memory usage: 2.0 KB\n"
     ]
    }
   ],
   "metadata": {}
  },
  {
   "cell_type": "code",
   "execution_count": 9,
   "source": [
    "print(df_sumsel.head())"
   ],
   "outputs": [
    {
     "output_type": "stream",
     "name": "stdout",
     "text": [
      "   hotspot_sumsel\n",
      "0               3\n",
      "1               5\n",
      "2              10\n",
      "3              20\n",
      "4              39\n"
     ]
    }
   ],
   "metadata": {}
  },
  {
   "cell_type": "code",
   "execution_count": 10,
   "source": [
    "# ensure all data is float\r\n",
    "df_sumsel = df_sumsel.values\r\n",
    "df_sumsel = df_sumsel.astype('float32')"
   ],
   "outputs": [],
   "metadata": {}
  },
  {
   "cell_type": "code",
   "execution_count": 11,
   "source": [
    "# generate urutan data sesuai panjang datanya\r\n",
    "x = pd.date_range(start=\"2001-01-01\", periods=len(df_sumsel), freq='MS')\r\n",
    "\r\n",
    "# membuat frame\r\n",
    "fig, ax = plt.subplots(figsize = (10,5))\r\n",
    "\r\n",
    "# membuat time series plot\r\n",
    "ax.plot(x, df_sumsel, color=\"tab:blue\", label=\"data aktual\", linewidth=2.5)\r\n",
    "\r\n",
    "# membuat label-label\r\n",
    "ax.set_title(\"Hotspot Sumsel Sensor MODIS 2018-2020\", fontsize=14)\r\n",
    "ax.set_xlabel(\"Tanggal\", fontsize=12)\r\n",
    "ax.set_ylabel(\"Jumlah Hostpot\", fontsize=12)\r\n",
    "ax.legend(loc='upper right')\r\n",
    "ax.grid(True)\r\n",
    "\r\n",
    "# menampilkan plot\r\n",
    "plt.show()"
   ],
   "outputs": [
    {
     "output_type": "display_data",
     "data": {
      "text/plain": [
       "<Figure size 720x360 with 1 Axes>"
      ],
      "image/png": "[encoded data removed]"
     },
     "metadata": {
      "needs_background": "light"
     }
    }
   ],
   "metadata": {}
  },
  {
   "cell_type": "markdown",
   "source": [
    "### Normalisasi Data"
   ],
   "metadata": {}
  },
  {
   "cell_type": "code",
   "execution_count": 12,
   "source": [
    "# normalize features\r\n",
    "scaler = MinMaxScaler(feature_range=(-1, 1))\r\n",
    "df_sumsel = scaler.fit_transform(df_sumsel)"
   ],
   "outputs": [],
   "metadata": {}
  },
  {
   "cell_type": "code",
   "execution_count": 13,
   "source": [
    "np.round(df_sumsel[:5],6)"
   ],
   "outputs": [
    {
     "output_type": "execute_result",
     "data": {
      "text/plain": [
       "array([[-0.999723],\n",
       "       [-0.999445],\n",
       "       [-0.998751],\n",
       "       [-0.997364],\n",
       "       [-0.994728]], dtype=float32)"
      ]
     },
     "metadata": {},
     "execution_count": 13
    }
   ],
   "metadata": {}
  },
  {
   "cell_type": "markdown",
   "source": [
    "### Data Latih dan Data Uji"
   ],
   "metadata": {}
  },
  {
   "cell_type": "code",
   "execution_count": 14,
   "source": [
    "# split into train and test sets\r\n",
    "train_size = int(len(df_sumsel) * 0.8)\r\n",
    "test_size = len(df_sumsel) - train_size\r\n",
    "train, test = df_sumsel[0:train_size,:], df_sumsel[train_size:len(df_sumsel),:]"
   ],
   "outputs": [],
   "metadata": {}
  },
  {
   "cell_type": "code",
   "execution_count": 15,
   "source": [
    "print(train.shape, test.shape)"
   ],
   "outputs": [
    {
     "output_type": "stream",
     "name": "stdout",
     "text": [
      "(192, 1) (48, 1)\n"
     ]
    }
   ],
   "metadata": {}
  },
  {
   "cell_type": "markdown",
   "source": [
    "### Supervised Learning"
   ],
   "metadata": {}
  },
  {
   "cell_type": "code",
   "execution_count": 16,
   "source": [
    "# convert an array of values into a dataset matrix\r\n",
    "def create_dataset(dataset, look_back=1):\r\n",
    "    dataX, dataY = [], []\r\n",
    "    for i in range(len(dataset)-look_back-1):\r\n",
    "        a = dataset[i:(i+look_back), 0]\r\n",
    "        dataX.append(a)\r\n",
    "        dataY.append(dataset[i + look_back, 0])\r\n",
    "    return np.array(dataX), np.array(dataY)"
   ],
   "outputs": [],
   "metadata": {}
  },
  {
   "cell_type": "code",
   "execution_count": 17,
   "source": [
    "# reshape into X=t and Y=t+1\r\n",
    "look_back = 1\r\n",
    "trainX, trainY = create_dataset(train, look_back)\r\n",
    "testX, testY = create_dataset(test, look_back)"
   ],
   "outputs": [],
   "metadata": {}
  },
  {
   "cell_type": "code",
   "execution_count": 18,
   "source": [
    "# reshape input to be [samples, time steps, features]\r\n",
    "trainX = np.reshape(trainX, (trainX.shape[0], 1, trainX.shape[1]))\r\n",
    "testX = np.reshape(testX, (testX.shape[0], 1, testX.shape[1]))"
   ],
   "outputs": [],
   "metadata": {}
  },
  {
   "cell_type": "code",
   "execution_count": 19,
   "source": [
    "print(trainX.shape, testX.shape)"
   ],
   "outputs": [
    {
     "output_type": "stream",
     "name": "stdout",
     "text": [
      "(190, 1, 1) (46, 1, 1)\n"
     ]
    }
   ],
   "metadata": {}
  },
  {
   "cell_type": "code",
   "execution_count": 20,
   "source": [
    "print(testY.shape, testY.shape)"
   ],
   "outputs": [
    {
     "output_type": "stream",
     "name": "stdout",
     "text": [
      "(46,) (46,)\n"
     ]
    }
   ],
   "metadata": {}
  },
  {
   "cell_type": "markdown",
   "source": [
    "### Model LSTM-RNN"
   ],
   "metadata": {}
  },
  {
   "cell_type": "markdown",
   "source": [
    "- Kondisi Default"
   ],
   "metadata": {}
  },
  {
   "cell_type": "code",
   "execution_count": 21,
   "source": [
    "# # design network\r\n",
    "# model = Sequential()\r\n",
    "# model.add(LSTM(1, input_shape=(1, look_back)))\r\n",
    "# model.add(Dense(1))\r\n",
    "\r\n",
    "# # model compile\r\n",
    "# model.compile(loss='mae', metrics=[tf.keras.metrics.RootMeanSquaredError()])\r\n",
    "\r\n",
    "# # fit network\r\n",
    "# history = model.fit(trainX, trainY, epochs=2000,\r\n",
    "#                     validation_data=(testX, testY),\r\n",
    "#                     verbose=0, shuffle=False)"
   ],
   "outputs": [],
   "metadata": {}
  },
  {
   "cell_type": "markdown",
   "source": [
    "- Kondisi Hyperparameter"
   ],
   "metadata": {}
  },
  {
   "cell_type": "code",
   "execution_count": 22,
   "source": [
    "# design network\n",
    "model = Sequential()\n",
    "model.add(LSTM(units=10, activation='selu', input_shape=(1, look_back)))\n",
    "model.add(Dropout(0.2))\n",
    "model.add(Dense(1))\n",
    "\n",
    "# model compile\n",
    "model.compile(optimizer=SGD(learning_rate=0.0025), loss='mae', metrics=[tf.keras.metrics.RootMeanSquaredError()])\n",
    "\n",
    "# fit network\n",
    "history = model.fit(trainX, trainY, epochs=2000, batch_size=8,\n",
    "                    validation_data=(testX, testY),\n",
    "                    verbose=0, shuffle=False)"
   ],
   "outputs": [],
   "metadata": {}
  },
  {
   "cell_type": "code",
   "execution_count": 23,
   "source": [
    "model.summary()"
   ],
   "outputs": [
    {
     "output_type": "stream",
     "name": "stdout",
     "text": [
      "Model: \"sequential\"\n",
      "_________________________________________________________________\n",
      "Layer (type)                 Output Shape              Param #   \n",
      "=================================================================\n",
      "lstm (LSTM)                  (None, 10)                480       \n",
      "_________________________________________________________________\n",
      "dropout (Dropout)            (None, 10)                0         \n",
      "_________________________________________________________________\n",
      "dense (Dense)                (None, 1)                 11        \n",
      "=================================================================\n",
      "Total params: 491\n",
      "Trainable params: 491\n",
      "Non-trainable params: 0\n",
      "_________________________________________________________________\n"
     ]
    }
   ],
   "metadata": {}
  },
  {
   "cell_type": "code",
   "execution_count": 24,
   "source": [
    "# membuat frame\r\n",
    "fig, ax = plt.subplots(figsize = (10,5))\r\n",
    "\r\n",
    "# membuat time series plot\r\n",
    "ax.plot(history.history['loss'], color=\"tab:blue\", label=\"train\", linewidth=1.5)\r\n",
    "ax.plot(history.history['val_loss'], color=\"tab:orange\", label=\"test\", linewidth=1.5)\r\n",
    "\r\n",
    "# membuat label-label\r\n",
    "ax.set_title(\"Grafik Loss Function\", fontsize=14)\r\n",
    "ax.legend(loc='upper right')\r\n",
    "ax.grid(True)\r\n",
    "\r\n",
    "# menampilkan plot\r\n",
    "plt.show()"
   ],
   "outputs": [
    {
     "output_type": "display_data",
     "data": {
      "text/plain": [
       "<Figure size 720x360 with 1 Axes>"
      ],
      "image/png": "[encoded data removed]"
     },
     "metadata": {
      "needs_background": "light"
     }
    }
   ],
   "metadata": {}
  },
  {
   "cell_type": "code",
   "execution_count": 25,
   "source": [
    "# 5. make predictions\r\n",
    "predictions = model.predict(testX, verbose=0)\r\n",
    "print(predictions[:, 0])"
   ],
   "outputs": [
    {
     "output_type": "stream",
     "name": "stdout",
     "text": [
      "[-0.9957292  -0.99641556 -0.99519545 -0.9951192  -0.9934862  -0.9917187\n",
      " -0.9868292  -0.98126334 -0.9717352  -0.9918029  -0.9950429  -0.99466175\n",
      " -0.99466175 -0.9956529  -0.9960342  -0.99443316 -0.9940521  -0.9945094\n",
      " -0.9823988  -0.9789769  -0.9589816  -0.96407324 -0.99373895 -0.99466175\n",
      " -0.9958817  -0.99611044 -0.9952717  -0.9950429  -0.9903846  -0.99323374\n",
      " -0.98594195 -0.9319021  -0.7096094  -0.7123946  -0.85366356 -0.99323374\n",
      " -0.99458563 -0.9948143  -0.99197114 -0.991887   -0.99458563 -0.9948143\n",
      " -0.99443316 -0.9914663  -0.99443316 -0.9935705 ]\n"
     ]
    }
   ],
   "metadata": {}
  },
  {
   "cell_type": "markdown",
   "source": [
    "### Evaluasi Model LSTM-RNN"
   ],
   "metadata": {}
  },
  {
   "cell_type": "markdown",
   "source": [
    "- RMSE"
   ],
   "metadata": {}
  },
  {
   "cell_type": "code",
   "execution_count": 26,
   "source": [
    "scores = model.evaluate(trainX, trainY)\r\n",
    "scores"
   ],
   "outputs": [
    {
     "output_type": "stream",
     "name": "stdout",
     "text": [
      "6/6 [==============================] - 0s 1000us/step - loss: 0.0832 - root_mean_squared_error: 0.2197\n"
     ]
    },
    {
     "output_type": "execute_result",
     "data": {
      "text/plain": [
       "[0.08324958384037018, 0.21968071162700653]"
      ]
     },
     "metadata": {},
     "execution_count": 26
    }
   ],
   "metadata": {}
  },
  {
   "cell_type": "code",
   "execution_count": 27,
   "source": [
    "scores = model.evaluate(testX, testY)\r\n",
    "scores"
   ],
   "outputs": [
    {
     "output_type": "stream",
     "name": "stdout",
     "text": [
      "2/2 [==============================] - 0s 2ms/step - loss: 0.0271 - root_mean_squared_error: 0.0845\n"
     ]
    },
    {
     "output_type": "execute_result",
     "data": {
      "text/plain": [
       "[0.027076782658696175, 0.08454417437314987]"
      ]
     },
     "metadata": {},
     "execution_count": 27
    }
   ],
   "metadata": {}
  },
  {
   "cell_type": "code",
   "execution_count": 28,
   "source": [
    "# calculate RMSE\r\n",
    "rmse = sqrt(mean_squared_error(testY, predictions))\r\n",
    "print('Test RMSE: %.4f' % rmse)"
   ],
   "outputs": [
    {
     "output_type": "stream",
     "name": "stdout",
     "text": [
      "Test RMSE: 0.0845\n"
     ]
    }
   ],
   "metadata": {}
  },
  {
   "cell_type": "markdown",
   "source": [
    "- Korelasi dan Signifikansi"
   ],
   "metadata": {}
  },
  {
   "cell_type": "code",
   "execution_count": 29,
   "source": [
    "hasil = np.stack((testY.reshape(-1),predictions.reshape(-1)),axis=1)\r\n",
    "hasil = pd.DataFrame(hasil, columns = ['data_aktual','prediksi'])\r\n",
    "hasil.head()"
   ],
   "outputs": [
    {
     "output_type": "execute_result",
     "data": {
      "text/plain": [
       "   data_aktual  prediksi\n",
       "0    -0.999723 -0.995729\n",
       "1    -0.997503 -0.996416\n",
       "2    -0.997364 -0.995195\n",
       "3    -0.994450 -0.995119\n",
       "4    -0.991537 -0.993486"
      ],
      "text/html": [
       "<div>\n",
       "<style scoped>\n",
       "    .dataframe tbody tr th:only-of-type {\n",
       "        vertical-align: middle;\n",
       "    }\n",
       "\n",
       "    .dataframe tbody tr th {\n",
       "        vertical-align: top;\n",
       "    }\n",
       "\n",
       "    .dataframe thead th {\n",
       "        text-align: right;\n",
       "    }\n",
       "</style>\n",
       "<table border=\"1\" class=\"dataframe\">\n",
       "  <thead>\n",
       "    <tr style=\"text-align: right;\">\n",
       "      <th></th>\n",
       "      <th>data_aktual</th>\n",
       "      <th>prediksi</th>\n",
       "    </tr>\n",
       "  </thead>\n",
       "  <tbody>\n",
       "    <tr>\n",
       "      <th>0</th>\n",
       "      <td>-0.999723</td>\n",
       "      <td>-0.995729</td>\n",
       "    </tr>\n",
       "    <tr>\n",
       "      <th>1</th>\n",
       "      <td>-0.997503</td>\n",
       "      <td>-0.996416</td>\n",
       "    </tr>\n",
       "    <tr>\n",
       "      <th>2</th>\n",
       "      <td>-0.997364</td>\n",
       "      <td>-0.995195</td>\n",
       "    </tr>\n",
       "    <tr>\n",
       "      <th>3</th>\n",
       "      <td>-0.994450</td>\n",
       "      <td>-0.995119</td>\n",
       "    </tr>\n",
       "    <tr>\n",
       "      <th>4</th>\n",
       "      <td>-0.991537</td>\n",
       "      <td>-0.993486</td>\n",
       "    </tr>\n",
       "  </tbody>\n",
       "</table>\n",
       "</div>"
      ]
     },
     "metadata": {},
     "execution_count": 29
    }
   ],
   "metadata": {}
  },
  {
   "cell_type": "code",
   "execution_count": 30,
   "source": [
    "import scipy.stats as sc\r\n",
    "r, p = sc.pearsonr(hasil[\"data_aktual\"], hasil[\"prediksi\"])\r\n",
    "print(\"korelasi data akual dengan hasil prediksi\" +\" {:.4f} \".format(r)+ \"dengan signifikansi\" +\" {:.4f} \".format(p))"
   ],
   "outputs": [
    {
     "output_type": "stream",
     "name": "stdout",
     "text": [
      "korelasi data akual dengan hasil prediksi 0.7075 dengan signifikansi 0.0000 \n"
     ]
    }
   ],
   "metadata": {}
  },
  {
   "cell_type": "markdown",
   "source": [
    "- Waktu komputasi"
   ],
   "metadata": {}
  },
  {
   "cell_type": "code",
   "execution_count": 31,
   "source": [
    "# Set akhir waktu komputasi \r\n",
    "end = time.time()"
   ],
   "outputs": [],
   "metadata": {}
  },
  {
   "cell_type": "code",
   "execution_count": 32,
   "source": [
    "# Proses menghitung waktu komputasi\r\n",
    "hours, rem = divmod(end-start, 3600)\r\n",
    "minutes, seconds = divmod(rem, 60)"
   ],
   "outputs": [],
   "metadata": {}
  },
  {
   "cell_type": "code",
   "execution_count": 33,
   "source": [
    "# Hasil waktu komputasi\r\n",
    "print(\"{:0>2}:{:0>2}:{:05.2f}\".format(int(hours),int(minutes),seconds))"
   ],
   "outputs": [
    {
     "output_type": "stream",
     "name": "stdout",
     "text": [
      "00:01:46.01\n"
     ]
    }
   ],
   "metadata": {}
  },
  {
   "cell_type": "markdown",
   "source": [
    "### Visualisasi Data"
   ],
   "metadata": {}
  },
  {
   "cell_type": "code",
   "execution_count": 34,
   "source": [
    "# generate urutan data sesuai panjang datanya\r\n",
    "x = pd.date_range(start=\"2017-01-01\", periods=len(testY), freq='MS')\r\n",
    "\r\n",
    "# membuat frame\r\n",
    "fig, ax = plt.subplots(figsize = (10,5))\r\n",
    "\r\n",
    "# membuat time series plot\r\n",
    "ax.plot(x, testY, color=\"tab:blue\", label=\"data aktual\", linewidth=2.5)\r\n",
    "ax.plot(x, predictions, color=\"tab:red\", label=\"hasil prediksi\", linewidth=2.5)\r\n",
    "\r\n",
    "# membuat label-label\r\n",
    "ax.set_title(\"Hotspot Sumsel Sensor MODIS 2018-2020\", fontsize=14)\r\n",
    "ax.set_xlabel(\"Tanggal\", fontsize=12)\r\n",
    "ax.set_ylabel(\"Jumlah Hostpot\", fontsize=12)\r\n",
    "ax.legend(loc='upper right')\r\n",
    "ax.grid(True)\r\n",
    "\r\n",
    "# menampilkan plot\r\n",
    "plt.show()"
   ],
   "outputs": [
    {
     "output_type": "display_data",
     "data": {
      "text/plain": [
       "<Figure size 720x360 with 1 Axes>"
      ],
      "image/png": "[encoded data removed]"
     },
     "metadata": {
      "needs_background": "light"
     }
    }
   ],
   "metadata": {}
  },
  {
   "cell_type": "code",
   "execution_count": null,
   "source": [],
   "outputs": [],
   "metadata": {}
  }
 ],
 "metadata": {
  "interpreter": {
   "hash": "af8c20166cad848477e998d1598fb9b9ed106df038381b17b4e27391b8c3c5c3"
  },
  "kernelspec": {
   "display_name": "Python 3",
   "language": "python",
   "name": "python3"
  },
  "language_info": {
   "codemirror_mode": {
    "name": "ipython",
    "version": 3
   },
   "file_extension": ".py",
   "mimetype": "text/x-python",
   "name": "python",
   "nbconvert_exporter": "python",
   "pygments_lexer": "ipython3",
   "version": "3.8.5"
  }
 },
 "nbformat": 4,
 "nbformat_minor": 4
}